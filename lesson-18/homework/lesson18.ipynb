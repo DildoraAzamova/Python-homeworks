{
 "cells": [
  {
   "cell_type": "code",
   "execution_count": 7,
   "id": "f0c53e56",
   "metadata": {},
   "outputs": [
    {
     "data": {
      "text/html": [
       "<div>\n",
       "<style scoped>\n",
       "    .dataframe tbody tr th:only-of-type {\n",
       "        vertical-align: middle;\n",
       "    }\n",
       "\n",
       "    .dataframe tbody tr th {\n",
       "        vertical-align: top;\n",
       "    }\n",
       "\n",
       "    .dataframe thead th {\n",
       "        text-align: right;\n",
       "    }\n",
       "</style>\n",
       "<table border=\"1\" class=\"dataframe\">\n",
       "  <thead>\n",
       "    <tr style=\"text-align: right;\">\n",
       "      <th></th>\n",
       "      <th>id</th>\n",
       "      <th>creationdate</th>\n",
       "      <th>score</th>\n",
       "      <th>viewcount</th>\n",
       "      <th>title</th>\n",
       "      <th>answercount</th>\n",
       "      <th>commentcount</th>\n",
       "      <th>favoritecount</th>\n",
       "      <th>quest_name</th>\n",
       "      <th>quest_rep</th>\n",
       "      <th>ans_name</th>\n",
       "      <th>ans_rep</th>\n",
       "    </tr>\n",
       "  </thead>\n",
       "  <tbody>\n",
       "    <tr>\n",
       "      <th>0</th>\n",
       "      <td>332289</td>\n",
       "      <td>2008-12-01 21:24:44</td>\n",
       "      <td>3184</td>\n",
       "      <td>5962784</td>\n",
       "      <td>How do I change the size of figures drawn with...</td>\n",
       "      <td>14</td>\n",
       "      <td>1</td>\n",
       "      <td>0.0</td>\n",
       "      <td>tatwright</td>\n",
       "      <td>37837.0</td>\n",
       "      <td>NaN</td>\n",
       "      <td>NaN</td>\n",
       "    </tr>\n",
       "    <tr>\n",
       "      <th>1</th>\n",
       "      <td>2051744</td>\n",
       "      <td>2010-01-12 19:31:47</td>\n",
       "      <td>420</td>\n",
       "      <td>587728</td>\n",
       "      <td>How to invert the x or y axis</td>\n",
       "      <td>10</td>\n",
       "      <td>3</td>\n",
       "      <td>0.0</td>\n",
       "      <td>DarkAnt</td>\n",
       "      <td>4211.0</td>\n",
       "      <td>Demitri</td>\n",
       "      <td>13369.0</td>\n",
       "    </tr>\n",
       "    <tr>\n",
       "      <th>2</th>\n",
       "      <td>2225995</td>\n",
       "      <td>2010-02-09 00:51:38</td>\n",
       "      <td>51</td>\n",
       "      <td>59922</td>\n",
       "      <td>How can I create stacked line graph?</td>\n",
       "      <td>4</td>\n",
       "      <td>0</td>\n",
       "      <td>0.0</td>\n",
       "      <td>David Underhill</td>\n",
       "      <td>15936.0</td>\n",
       "      <td>doug</td>\n",
       "      <td>69290.0</td>\n",
       "    </tr>\n",
       "    <tr>\n",
       "      <th>3</th>\n",
       "      <td>5486226</td>\n",
       "      <td>2011-03-30 12:26:50</td>\n",
       "      <td>7</td>\n",
       "      <td>6393</td>\n",
       "      <td>Rolling median in python</td>\n",
       "      <td>5</td>\n",
       "      <td>4</td>\n",
       "      <td>0.0</td>\n",
       "      <td>yueerhu</td>\n",
       "      <td>175.0</td>\n",
       "      <td>Mike Pennington</td>\n",
       "      <td>42288.0</td>\n",
       "    </tr>\n",
       "    <tr>\n",
       "      <th>4</th>\n",
       "      <td>5515021</td>\n",
       "      <td>2011-04-01 14:50:44</td>\n",
       "      <td>10</td>\n",
       "      <td>13744</td>\n",
       "      <td>Compute a compounded return series in Python</td>\n",
       "      <td>3</td>\n",
       "      <td>6</td>\n",
       "      <td>0.0</td>\n",
       "      <td>Jason Strimpel</td>\n",
       "      <td>14916.0</td>\n",
       "      <td>Mike Pennington</td>\n",
       "      <td>42288.0</td>\n",
       "    </tr>\n",
       "  </tbody>\n",
       "</table>\n",
       "</div>"
      ],
      "text/plain": [
       "        id         creationdate  score  viewcount  \\\n",
       "0   332289  2008-12-01 21:24:44   3184    5962784   \n",
       "1  2051744  2010-01-12 19:31:47    420     587728   \n",
       "2  2225995  2010-02-09 00:51:38     51      59922   \n",
       "3  5486226  2011-03-30 12:26:50      7       6393   \n",
       "4  5515021  2011-04-01 14:50:44     10      13744   \n",
       "\n",
       "                                               title  answercount  \\\n",
       "0  How do I change the size of figures drawn with...           14   \n",
       "1                      How to invert the x or y axis           10   \n",
       "2               How can I create stacked line graph?            4   \n",
       "3                           Rolling median in python            5   \n",
       "4       Compute a compounded return series in Python            3   \n",
       "\n",
       "   commentcount  favoritecount       quest_name  quest_rep         ans_name  \\\n",
       "0             1            0.0        tatwright    37837.0              NaN   \n",
       "1             3            0.0          DarkAnt     4211.0          Demitri   \n",
       "2             0            0.0  David Underhill    15936.0             doug   \n",
       "3             4            0.0          yueerhu      175.0  Mike Pennington   \n",
       "4             6            0.0   Jason Strimpel    14916.0  Mike Pennington   \n",
       "\n",
       "   ans_rep  \n",
       "0      NaN  \n",
       "1  13369.0  \n",
       "2  69290.0  \n",
       "3  42288.0  \n",
       "4  42288.0  "
      ]
     },
     "execution_count": 7,
     "metadata": {},
     "output_type": "execute_result"
    }
   ],
   "source": [
    "import pandas as pd\n",
    "\n",
    "df = pd.read_csv(r'C:\\Users\\HP\\Desktop\\Python\\tackoverflow_qa.csv')\n",
    "df.head()"
   ]
  },
  {
   "cell_type": "code",
   "execution_count": 30,
   "id": "aea0a375",
   "metadata": {},
   "outputs": [],
   "source": [
    "# Task 1. Find all questions that were created before 2014\n",
    "\n",
    "# Convert the CreationDate column to datetime\n",
    "df['creationdate'] = pd.to_datetime(df['creationdate'])\n",
    "\n",
    "# Filter for rows before 2014\n",
    "filtered_df = df[df['creationdate'].dt.year < 2014]\n",
    "\n",
    "# Display the result\n",
    "filtered_df\n",
    "\n",
    "# Optionally: Save to a new CSV\n",
    "filtered_df.to_csv(\"questions_before_2014.csv\", index=False)"
   ]
  },
  {
   "cell_type": "code",
   "execution_count": null,
   "id": "af9c607c",
   "metadata": {},
   "outputs": [],
   "source": [
    "# Task 2. Find all questions with a score more than 50\n",
    "\n",
    "filtered_score=df[df['score']>50]\n",
    "filtered_score"
   ]
  },
  {
   "cell_type": "code",
   "execution_count": null,
   "id": "d7c11f27",
   "metadata": {},
   "outputs": [],
   "source": [
    "# Task 3. Find all questions with a score between 50 and 100\n",
    "\n",
    "filt_score=df[(df['score']>=50) & (df['score']<=100)]\n",
    "filt_score"
   ]
  },
  {
   "cell_type": "code",
   "execution_count": null,
   "id": "3c13e9a7",
   "metadata": {},
   "outputs": [],
   "source": [
    "# Task 4. Find all questions answered by Scott Boston\n",
    "\n",
    "answ_Scott=df[(df['ans_name']==\"Scott Boston\")]\n",
    "answ_Scott"
   ]
  },
  {
   "cell_type": "code",
   "execution_count": null,
   "id": "1f1bc320",
   "metadata": {},
   "outputs": [],
   "source": [
    "# Task 5. Find all questions answered by the following 5 users\n",
    "\n",
    "user=['Unutbu', 'Scott Boston', 'DarkAnt', 'Matt Dowle', 'Wes McKinney']\n",
    "\n",
    "filter2=df[df['ans_name'].isin(user)]\n",
    "filter2"
   ]
  },
  {
   "cell_type": "code",
   "execution_count": null,
   "id": "bea73e52",
   "metadata": {},
   "outputs": [],
   "source": [
    "# Task 6. Find all questions that were created between March, 2014 and October 2014 that were answered by Unutbu and have score less than 5.\n",
    "\n",
    "df['creationdate']=pd.to_datetime(df['creationdate'])\n",
    "filt_ques=df[(df[\"creationdate\"]>='2014-03-01') & (df['creationdate']<='2014-10-31')\n",
    "             & (df['ans_name']=='Unutbu') & (df['score']<5)]\n",
    "\n",
    "filt_ques"
   ]
  },
  {
   "cell_type": "code",
   "execution_count": null,
   "id": "624cf894",
   "metadata": {},
   "outputs": [],
   "source": [
    "# Task 7. Find all questions that have score between 5 and 10 or have a view count of greater than 10,000\n",
    "\n",
    "filter_score1=df[(df[\"score\"]>=5) & (df[\"score\"]<=100) | (df[\"viewcount\"]>10000)]\n",
    "filter_score1"
   ]
  },
  {
   "cell_type": "code",
   "execution_count": null,
   "id": "f6614267",
   "metadata": {},
   "outputs": [],
   "source": [
    "# Task 8. Find all questions that are not answered by Scott Boston\n",
    "\n",
    "by_Scott=df[(df['ans_name']==\"Scott Boston\")]\n",
    "not_by_Scott=df[~df['ans_name'].isin(by_Scott)]\n",
    "not_by_Scott"
   ]
  },
  {
   "cell_type": "code",
   "execution_count": null,
   "id": "b646d6b8",
   "metadata": {},
   "outputs": [],
   "source": [
    "# Task 1. Select Female Passengers in Class 1 with Ages between 20 and 30: Extract a DataFrame containing female passengers in Class 1 with ages between 20 and 30.\n",
    "\n",
    "import pandas as pd\n",
    "\n",
    "df1 = pd.read_csv(r'C:\\Users\\HP\\Desktop\\Python\\titanic.csv')\n",
    "df\n",
    "female=df1[\n",
    "    (df1['Pclass']==1) &\n",
    "    (df1['Sex']=='female') &\n",
    "    (df1['Age']>=20) &\n",
    "    (df1['Age']<=30)\n",
    "][['Sex', 'Pclass', 'Age']]\n",
    "female\n"
   ]
  },
  {
   "cell_type": "code",
   "execution_count": null,
   "id": "589a3320",
   "metadata": {},
   "outputs": [],
   "source": [
    "# Task 2. Filter Passengers Who Paid More than $100: Create a DataFrame with passengers who paid a fare greater than $100.\n",
    "\n",
    "fare=df1[df1['Fare']>100]\n",
    "fare"
   ]
  },
  {
   "cell_type": "code",
   "execution_count": null,
   "id": "fd2bcc58",
   "metadata": {},
   "outputs": [],
   "source": [
    "# Task 3. Select Passengers Who Survived and Were Alone: Filter passengers who survived and were traveling alone (no siblings, spouses, parents, or children).\n",
    "\n",
    "Alone_passenger=df1[\n",
    "    (df1['Survived'] > 0) &\n",
    "    (df1['SibSp']==0) &\n",
    "    (df1['Parch']==0)\n",
    "]\n",
    "Alone_passenger"
   ]
  },
  {
   "cell_type": "code",
   "execution_count": null,
   "id": "f81ba32c",
   "metadata": {},
   "outputs": [],
   "source": [
    "# Task 4. Filter Passengers Embarked from 'C' and Paid More Than $50: Create a DataFrame with passengers who embarked from 'C' and paid more than $50.\n",
    "\n",
    "filt=df1[\n",
    "    (df1['Embarked']=='C') &\n",
    "    (df1['Fare']>50)\n",
    "][['Name', 'Embarked', 'Fare']]  \n",
    "\n",
    "filt"
   ]
  },
  {
   "cell_type": "code",
   "execution_count": null,
   "id": "cb3f702e",
   "metadata": {},
   "outputs": [],
   "source": [
    "# Task 5. Select Passengers with Siblings or Spouses and Parents or Children: Extract passengers who had both siblings or spouses aboard and parents or children aboard.\n",
    "\n",
    "Not_alone_passenger=df1[\n",
    "    (df1['Parch']>0) &\n",
    "    (df1['SibSp']>0)\n",
    "] [['Name', 'Parch', 'SibSp']]\n",
    "\n",
    "Not_alone_passenger"
   ]
  },
  {
   "cell_type": "code",
   "execution_count": null,
   "id": "42e6d1f3",
   "metadata": {},
   "outputs": [],
   "source": [
    "# Task 6. Filter Passengers Aged 15 or Younger Who Didn't Survive: Create a DataFrame with passengers aged 15 or younger who did not survive.\n",
    "\n",
    "filt2=df1[\n",
    "    (df1['Age']<=15) &\n",
    "    (df1['Survived']==0)\n",
    "] [['Name', 'Age', 'Survived']]\n",
    "\n",
    "filt2"
   ]
  },
  {
   "cell_type": "code",
   "execution_count": null,
   "id": "cfb4fa30",
   "metadata": {},
   "outputs": [],
   "source": [
    "# Task 7. Select Passengers with Cabins and Fare Greater Than $200: Extract passengers with known cabin numbers and a fare greater than $200.\n",
    "\n",
    "\n",
    "filt3=df1[\n",
    "    (df1['Cabin'].notna()) &\n",
    "    (df1['Fare']>200)\n",
    "] [['Name','Cabin', 'Fare']]\n",
    "\n",
    "filt3"
   ]
  },
  {
   "cell_type": "code",
   "execution_count": null,
   "id": "838760b9",
   "metadata": {},
   "outputs": [],
   "source": [
    "# Task 8. Filter Passengers with Odd-Numbered Passenger IDs: Create a DataFrame with passengers whose PassengerId is an odd number.\n",
    "\n",
    "odd_passenger=df1[df1['PassengerId']%2==1] [['PassengerId', 'Name']]\n",
    "odd_passenger"
   ]
  },
  {
   "cell_type": "code",
   "execution_count": null,
   "id": "2080bed7",
   "metadata": {},
   "outputs": [],
   "source": [
    "# Task 9. Select Passengers with Unique Ticket Numbers: Extract a DataFrame with passengers having unique ticket numbers.\n",
    "\n",
    "unique_ticket=df1['Ticket'].value_counts()==1\n",
    "unique_ticket_passengers=df1[df1['Ticket'].isin(unique_ticket[unique_ticket].index)]\n",
    "[['Name', 'Ticket']]\n",
    "unique_ticket_passengers\n"
   ]
  },
  {
   "cell_type": "code",
   "execution_count": null,
   "id": "74e555bd",
   "metadata": {},
   "outputs": [],
   "source": [
    "# Task 10. Filter Passengers with 'Miss' in Their Name and Were in Class 1: Create a DataFrame with female passengers having 'Miss' in their name and were in Class 1.\n",
    "\n",
    "female_passengers=df1[\n",
    "    (df1['Sex']=='female') &\n",
    "    (df1['Name'].str.contains('Miss', case=False, na=False)) &\n",
    "    (df1['Pclass']==1)\n",
    "] [['Name', 'Sex', 'Pclass']]\n",
    "female_passengers"
   ]
  }
 ],
 "metadata": {
  "kernelspec": {
   "display_name": "Python 3",
   "language": "python",
   "name": "python3"
  },
  "language_info": {
   "codemirror_mode": {
    "name": "ipython",
    "version": 3
   },
   "file_extension": ".py",
   "mimetype": "text/x-python",
   "name": "python",
   "nbconvert_exporter": "python",
   "pygments_lexer": "ipython3",
   "version": "3.13.3"
  }
 },
 "nbformat": 4,
 "nbformat_minor": 5
}
