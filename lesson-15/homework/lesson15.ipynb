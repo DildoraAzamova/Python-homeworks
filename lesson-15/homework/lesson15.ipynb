{
 "cells": [
  {
   "cell_type": "code",
   "execution_count": null,
   "id": "838f8f2d",
   "metadata": {},
   "outputs": [],
   "source": [
    "\n",
    "\n",
    "import sqlite3\n",
    "\n",
    "with sqlite3.connect(\"test_datebase.db\") as conn:\n",
    "    cursor=conn.cursor()\n",
    "    create_table=\"\"\"\n",
    "    CREATE TABLE Roster(\n",
    "    Name Text,\n",
    "    Species Text,\n",
    "    Age Int\n",
    "    )\n",
    "    \"\"\"\n",
    "    insert_values=\"\"\" \n",
    "    INSERT INTO Roster Values (\n",
    "    'Benjamin Sisko', 'Human',\t40),\n",
    "    ('Jadzia Dax',\t'Trill',\t300),\n",
    "    ('Kira Nerys'\t,'Bajoran',\t29\n",
    "    );\n",
    "    \"\"\"\n",
    "    cursor.execute(create_table)\n",
    "    cursor.execute(insert_values)\n",
    "    cursor.execute(\"Update Roster set Name='Ezri Dax' where Name='Jadzia Dax'\")\n",
    "    result=cursor.execute(\"Select Name, Age from Roster where Species='Bajoran'\")\n",
    "    conn.commit()\n",
    "    result=cursor.fetchall()\n",
    "    print(\"Bajoran crew members:\")\n",
    "for name, age in result:\n",
    "    print(f\" - {name}, Age: {age}\")\n"
   ]
  },
  {
   "cell_type": "code",
   "execution_count": null,
   "id": "e78889f5",
   "metadata": {},
   "outputs": [],
   "source": []
  }
 ],
 "metadata": {
  "kernelspec": {
   "display_name": "myenv",
   "language": "python",
   "name": "python3"
  },
  "language_info": {
   "codemirror_mode": {
    "name": "ipython",
    "version": 3
   },
   "file_extension": ".py",
   "mimetype": "text/x-python",
   "name": "python",
   "nbconvert_exporter": "python",
   "pygments_lexer": "ipython3",
   "version": "3.13.3"
  }
 },
 "nbformat": 4,
 "nbformat_minor": 5
}
