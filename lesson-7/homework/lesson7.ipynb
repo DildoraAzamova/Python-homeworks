{
 "cells": [
  {
   "cell_type": "code",
   "execution_count": 7,
   "id": "b01ab608",
   "metadata": {},
   "outputs": [
    {
     "name": "stdout",
     "output_type": "stream",
     "text": [
      "False\n"
     ]
    }
   ],
   "source": [
    "# Task 1\n",
    "\n",
    "def is_prime(n):\n",
    "    if n<=1:\n",
    "        return False\n",
    "    if n==2:\n",
    "        return True\n",
    "    if n%2==0:\n",
    "        return False\n",
    "    for i in range(3, int(n ** 0.5) + 1, 2):\n",
    "        if n % i == 0:\n",
    "            return False\n",
    "    return True\n",
    "\n",
    "result=is_prime(-8)\n",
    "print(result)"
   ]
  },
  {
   "cell_type": "code",
   "execution_count": 8,
   "id": "5d6a513b",
   "metadata": {},
   "outputs": [
    {
     "name": "stdout",
     "output_type": "stream",
     "text": [
      "11\n"
     ]
    }
   ],
   "source": [
    "# Task 2\n",
    "\n",
    "def digit_sum(k):\n",
    "    return sum(int(digit) for digit in str(abs(k)))\n",
    "\n",
    "print(digit_sum(56))"
   ]
  },
  {
   "cell_type": "code",
   "execution_count": 10,
   "id": "ff5e9c05",
   "metadata": {},
   "outputs": [
    {
     "name": "stdout",
     "output_type": "stream",
     "text": [
      "1\n",
      "2\n",
      "4\n",
      "8\n",
      "16\n",
      "32\n",
      "64\n",
      "None\n"
     ]
    }
   ],
   "source": [
    "# Task 3\n",
    "\n",
    "def power_of_two(N):\n",
    "    k=0\n",
    "    power=1\n",
    "    while power <=N:\n",
    "        print(power)\n",
    "        k+=1\n",
    "        power=2**k\n",
    "\n",
    "print(power_of_two(100))\n"
   ]
  }
 ],
 "metadata": {
  "kernelspec": {
   "display_name": "Python 3",
   "language": "python",
   "name": "python3"
  },
  "language_info": {
   "codemirror_mode": {
    "name": "ipython",
    "version": 3
   },
   "file_extension": ".py",
   "mimetype": "text/x-python",
   "name": "python",
   "nbconvert_exporter": "python",
   "pygments_lexer": "ipython3",
   "version": "3.13.3"
  }
 },
 "nbformat": 4,
 "nbformat_minor": 5
}
