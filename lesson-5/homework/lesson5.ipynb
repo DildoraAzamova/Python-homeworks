{
 "cells": [
  {
   "cell_type": "code",
   "execution_count": 2,
   "id": "8d2e011f",
   "metadata": {},
   "outputs": [
    {
     "name": "stdout",
     "output_type": "stream",
     "text": [
      "2025 is not a leap year.\n"
     ]
    }
   ],
   "source": [
    "# Task 1\n",
    "\n",
    "def is_leap(year):\n",
    "    if not isinstance(year, int):\n",
    "        raise ValueError(\"Year must be an integer.\")\n",
    "\n",
    "    return (year % 4 == 0 and year % 100 != 0) or (year % 400 == 0)\n",
    "\n",
    "try:\n",
    "    user_input = input(\"Enter a year: \")\n",
    "    year = int(user_input)\n",
    "    \n",
    "    if is_leap(year):\n",
    "        print(f\"{year} is a leap year.\")\n",
    "    else:\n",
    "        print(f\"{year} is not a leap year.\")\n",
    "\n",
    "except ValueError:\n",
    "    print(\"Invalid input. Please enter a valid integer year.\")"
   ]
  },
  {
   "cell_type": "code",
   "execution_count": null,
   "id": "3b337b45",
   "metadata": {},
   "outputs": [],
   "source": [
    "# Task 2\n",
    "\n",
    "n = int(input(\"Enter an integer: \"))\n",
    "\n",
    "if n % 2 == 1:\n",
    "    print(\"Weird\")\n",
    "elif n % 2 == 0 and 2 <= n <= 5:\n",
    "    print(\"Not Weird\")\n",
    "elif n % 2 == 0 and 6 <= n <= 20:\n",
    "    print(\"Weird\")\n",
    "elif n % 2 == 0 and n > 20:\n",
    "    print(\"Not Weird\")"
   ]
  },
  {
   "cell_type": "code",
   "execution_count": 3,
   "id": "320d7707",
   "metadata": {},
   "outputs": [
    {
     "name": "stdout",
     "output_type": "stream",
     "text": [
      "Even numbers: [6, 8, 10]\n",
      "Even numbers: [6, 8, 10, 12, 14, 16, 18]\n"
     ]
    }
   ],
   "source": [
    "# Task 3\n",
    "\n",
    "# First solution\n",
    "\n",
    "a=int(input(\"Enter first number (a):\"))\n",
    "b=int(input(\"Enter second number (b):\"))\n",
    "\n",
    "# Ensure a is less than or equal to b\n",
    "if a > b:\n",
    "    a, b = b, a\n",
    "\n",
    "\n",
    "even_numbers = [x for x in range(a, b + 1) if x % 2 == 0]\n",
    "\n",
    "print(\"Even numbers:\", even_numbers)\n",
    "\n",
    "# Second solution\n",
    "\n",
    "a = int(input(\"Enter first number (a): \"))\n",
    "b = int(input(\"Enter second number (b): \"))\n",
    "\n",
    "start, end = sorted((a, b))\n",
    "\n",
    "even_numbers = list(range(start + (start % 2), end + 1, 2)) if start % 2 == 0 else list(range(start + 1, end + 1, 2))\n",
    "\n",
    "print(\"Even numbers:\", even_numbers)"
   ]
  }
 ],
 "metadata": {
  "kernelspec": {
   "display_name": "Python 3",
   "language": "python",
   "name": "python3"
  },
  "language_info": {
   "codemirror_mode": {
    "name": "ipython",
    "version": 3
   },
   "file_extension": ".py",
   "mimetype": "text/x-python",
   "name": "python",
   "nbconvert_exporter": "python",
   "pygments_lexer": "ipython3",
   "version": "3.13.3"
  }
 },
 "nbformat": 4,
 "nbformat_minor": 5
}
