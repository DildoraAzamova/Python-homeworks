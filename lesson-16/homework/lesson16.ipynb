{
 "cells": [
  {
   "cell_type": "code",
   "execution_count": 1,
   "id": "72689005",
   "metadata": {},
   "outputs": [
    {
     "name": "stdout",
     "output_type": "stream",
     "text": [
      "Original List: [12.23, 13.32, 100, 36.32]\n",
      "One-dimensional NumPy array: [ 12.23  13.32 100.    36.32]\n"
     ]
    }
   ],
   "source": [
    "# Task 1 Convert List to 1D Array\n",
    "\n",
    "import numpy as np\n",
    "\n",
    "# Original list of numeric values\n",
    "Original_List=[12.23, 13.32, 100, 36.32]\n",
    "\n",
    "# Convert to one-dimensional NumPy array\n",
    "array=np.array(Original_List)\n",
    "\n",
    "# Display the results\n",
    "print(\"Original List:\", Original_List)\n",
    "print(\"One-dimensional NumPy array:\", array)"
   ]
  },
  {
   "cell_type": "code",
   "execution_count": 3,
   "id": "bbc0a612",
   "metadata": {},
   "outputs": [
    {
     "name": "stdout",
     "output_type": "stream",
     "text": [
      "[[ 2  3  4]\n",
      " [ 5  6  7]\n",
      " [ 8  9 10]]\n"
     ]
    }
   ],
   "source": [
    "# Task 2\n",
    "\n",
    "import numpy as np\n",
    "\n",
    "# Create a 3x3 matrix with values from 2 to 10\n",
    "matrix=np.arange(2,11).reshape(3,3)\n",
    "\n",
    "print(matrix)"
   ]
  },
  {
   "cell_type": "code",
   "execution_count": 4,
   "id": "68647d99",
   "metadata": {},
   "outputs": [
    {
     "name": "stdout",
     "output_type": "stream",
     "text": [
      "Orginal vector: [0. 0. 0. 0. 0. 0. 0. 0. 0. 0.]\n",
      "Updated vector [ 0.  0.  0.  0.  0.  0. 11.  0.  0.  0.]\n"
     ]
    }
   ],
   "source": [
    "# Task 3\n",
    "\n",
    "import numpy as np\n",
    "\n",
    "vector=np.zeros(10)\n",
    "\n",
    "print(\"Orginal vector:\", vector)\n",
    "\n",
    "vector[6]=11\n",
    "\n",
    "print(\"Updated vector\", vector)\n"
   ]
  },
  {
   "cell_type": "code",
   "execution_count": 5,
   "id": "12e29418",
   "metadata": {},
   "outputs": [
    {
     "name": "stdout",
     "output_type": "stream",
     "text": [
      "[12 13 14 15 16 17 18 19 20 21 22 23 24 25 26 27 28 29 30 31 32 33 34 35\n",
      " 36 37]\n"
     ]
    }
   ],
   "source": [
    "# Task 4\n",
    "\n",
    "import numpy as np\n",
    "\n",
    "array1=np.arange(12,38)\n",
    "\n",
    "print(array1)"
   ]
  },
  {
   "cell_type": "code",
   "execution_count": 6,
   "id": "68a3a8d6",
   "metadata": {},
   "outputs": [
    {
     "name": "stdout",
     "output_type": "stream",
     "text": [
      "Orginal Array: [1 2 3 4]\n",
      "Float Array: [1. 2. 3. 4.]\n"
     ]
    }
   ],
   "source": [
    "# Task 5\n",
    "\n",
    "import numpy as np\n",
    "\n",
    "Original_array=np.array([1, 2, 3, 4])\n",
    "\n",
    "print(\"Orginal Array:\", Original_array)\n",
    "\n",
    "float_array=Original_array.astype(np.float16)\n",
    "\n",
    "print(\"Float Array:\", float_array)"
   ]
  },
  {
   "cell_type": "code",
   "execution_count": 14,
   "id": "5bdbc2f2",
   "metadata": {},
   "outputs": [
    {
     "name": "stdout",
     "output_type": "stream",
     "text": [
      "Values in Fahrenheit degrees: [ 0.   12.   45.21 34.   99.91 32.  ]\n",
      "Values in Centigrade degrees: [-17.78 -11.11   7.34   1.11  37.73   0.  ]\n",
      "Values in Centigrade degrees: [-17.78 -11.11   7.34   1.11  37.73   0.  ]\n",
      "Values in Fahrenheit degrees: [-0.   12.   45.21 34.   99.91 32.  ]\n"
     ]
    }
   ],
   "source": [
    "# Task 6\n",
    "\n",
    "import numpy as np\n",
    "\n",
    "# Fahrenheit values\n",
    "fahrenheit = np.array([0, 12, 45.21, 34, 99.91, 32])\n",
    "print(\"Values in Fahrenheit degrees:\", fahrenheit)\n",
    "\n",
    "# Convert to Centigrade\n",
    "centigrade = (fahrenheit - 32) * 5 / 9\n",
    "print(\"Values in Centigrade degrees:\", np.round(centigrade,2))\n",
    "\n",
    "# Centigrade values in a NumPy array\n",
    "centigrade = np.array([-17.78, -11.11, 7.34, 1.11, 37.73, 0.0])\n",
    "print(\"Values in Centigrade degrees:\", centigrade)\n",
    "\n",
    "# Convert to Fahrenheit\n",
    "fahrenheit=centigrade*9/5+32\n",
    "print(\"Values in Fahrenheit degrees:\", np.round(fahrenheit,2))\n",
    "\n",
    "\n"
   ]
  },
  {
   "cell_type": "code",
   "execution_count": 18,
   "id": "c03a460c",
   "metadata": {},
   "outputs": [
    {
     "name": "stdout",
     "output_type": "stream",
     "text": [
      "Orginal array: [10 20 30]\n",
      "Array after appending: [10 20 30 40 50 60 70 80 90]\n"
     ]
    }
   ],
   "source": [
    "# Task 7\n",
    "\n",
    "import numpy as np\n",
    "\n",
    "# Orginal array\n",
    "Original_array=np.array([10, 20, 30])\n",
    "print(\"Orginal array:\", Original_array)\n",
    "\n",
    "# Append values\n",
    "new_array=np.append(Original_array, [40,50,60,70,80,90])\n",
    "print(\"Array after appending:\", new_array)\n",
    "\n"
   ]
  },
  {
   "cell_type": "code",
   "execution_count": 22,
   "id": "eaef3e72",
   "metadata": {},
   "outputs": [
    {
     "name": "stdout",
     "output_type": "stream",
     "text": [
      "Random Array: [0.73363902 0.29177443 0.07314535 0.5689857  0.55003087 0.59363892\n",
      " 0.00703356 0.61805367 0.11051215 0.45059059]\n",
      "Mean: 0.399740426654505\n",
      "Median: 0.5003107296275786\n",
      "Standard Deviation: 0.2463240074800294\n"
     ]
    }
   ],
   "source": [
    "# Task 8\n",
    "\n",
    "import numpy as np\n",
    "\n",
    "# Create a random array of 10 elements (values between 0 and 1)\n",
    "arr = np.random.rand(10)\n",
    "print(\"Random Array:\", arr)\n",
    "\n",
    "# Calculate mean\n",
    "mean_val=np.mean(arr)\n",
    "print(\"Mean:\", mean_val)\n",
    "\n",
    "# Calculate median\n",
    "median_val = np.median(arr)\n",
    "print(\"Median:\", median_val)\n",
    "\n",
    "# Calculate standard deviation\n",
    "std_val = np.std(arr)\n",
    "print(\"Standard Deviation:\", std_val)"
   ]
  },
  {
   "cell_type": "code",
   "execution_count": 21,
   "id": "2758d45f",
   "metadata": {},
   "outputs": [
    {
     "name": "stdout",
     "output_type": "stream",
     "text": [
      "[[ 2.56737831 -1.18104715  1.30249198 -1.09523623  1.1981411   0.20586661\n",
      "  -1.9139065  -1.2266885  -0.00903477  0.51801697]\n",
      " [ 0.04941222  0.49509247  1.01068329  0.46235277  0.45512862  0.12104691\n",
      "  -0.78775401 -0.91250396  1.6790216  -0.75526483]\n",
      " [ 1.04393447 -1.23236815 -0.22236649 -0.25988253  0.24091483 -1.59629328\n",
      "   0.23352841  0.29773408  0.67053504 -0.88563795]\n",
      " [-1.21888008 -0.17707115  0.62375174  0.52431188 -0.66874206  0.01251124\n",
      "  -1.82059053  0.59012493  0.23993607  0.13242279]\n",
      " [-1.57433417 -1.92140152  0.43472107 -1.4036962  -0.09366354  0.31361674\n",
      "  -0.87265208  0.04741759 -0.67853506  0.90359391]\n",
      " [-0.256448   -1.23310188 -0.02337983  0.96119069 -1.88263902  1.66181373\n",
      "  -0.14731952  0.60347078 -2.59169235 -0.14087939]\n",
      " [-0.55459462 -0.00749572  1.18781829  0.94127412  0.00721331  0.78969083\n",
      "  -0.01255513  0.63090987  0.29473599 -0.13741274]\n",
      " [ 0.51644801 -0.0642529   1.02305587 -0.23234037  1.47459575  0.70267254\n",
      "  -1.01915626  0.02728454 -1.06355139  0.2748004 ]\n",
      " [ 1.25179993 -0.07449384  0.06854989  0.98908522  2.06345302  1.3242007\n",
      "  -0.9562566  -0.8823113  -1.47825213 -1.55671425]\n",
      " [ 1.73905395 -0.65823604 -1.49972923 -1.60969061  0.04281819  0.70834343\n",
      "  -1.62991728  0.38327107  0.5474867   0.08403706]]\n",
      "Min value: -2.5916923545492585\n",
      "Max value: 2.567378307500319\n"
     ]
    }
   ],
   "source": [
    "# Task 9\n",
    "\n",
    "import numpy as np\n",
    "\n",
    "data=np.random.randn(10,10)\n",
    "print(data)\n",
    "\n",
    "min=np.min(data)\n",
    "print(\"Min value:\", min)\n",
    "\n",
    "max=np.max(data)\n",
    "print(\"Max value:\", max)\n",
    "\n"
   ]
  },
  {
   "cell_type": "code",
   "execution_count": 20,
   "id": "923a8966",
   "metadata": {},
   "outputs": [
    {
     "name": "stdout",
     "output_type": "stream",
     "text": [
      "[[[-0.450081    1.17448799 -0.85765542]\n",
      "  [ 0.38203746  0.53496813 -0.46026147]\n",
      "  [ 0.62350913  0.67804426 -3.06313153]]\n",
      "\n",
      " [[-0.53649465  0.26763591 -0.14791622]\n",
      "  [ 1.34303985 -0.0410331  -0.05286648]\n",
      "  [-1.09992388 -0.97513557 -0.92466737]]\n",
      "\n",
      " [[-0.6326496  -1.65239877 -0.29983794]\n",
      "  [ 0.37697096  1.11662069 -0.94475581]\n",
      "  [-0.46925119 -1.00135303  0.42115725]]]\n"
     ]
    }
   ],
   "source": [
    "# Task 10 \n",
    "\n",
    "import numpy as np\n",
    "\n",
    "Array=np.random.randn(3,3,3)\n",
    "\n",
    "print(Array)"
   ]
  }
 ],
 "metadata": {
  "kernelspec": {
   "display_name": "Python 3",
   "language": "python",
   "name": "python3"
  },
  "language_info": {
   "codemirror_mode": {
    "name": "ipython",
    "version": 3
   },
   "file_extension": ".py",
   "mimetype": "text/x-python",
   "name": "python",
   "nbconvert_exporter": "python",
   "pygments_lexer": "ipython3",
   "version": "3.13.3"
  }
 },
 "nbformat": 4,
 "nbformat_minor": 5
}
