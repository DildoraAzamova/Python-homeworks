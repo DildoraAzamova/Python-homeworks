{
 "cells": [
  {
   "cell_type": "code",
   "execution_count": 5,
   "id": "87c19d4a",
   "metadata": {},
   "outputs": [
    {
     "name": "stdout",
     "output_type": "stream",
     "text": [
      "You are 24 years, 7 months, and 29 days old.\n"
     ]
    }
   ],
   "source": [
    "# Task 1\n",
    "\n",
    "from datetime import datetime\n",
    "\n",
    "# Ask user for birthdate\n",
    "brth=input(\"Enter your birthday date (yy/mm/dd):\")\n",
    "\n",
    "try:\n",
    "    # Convert input to a date\n",
    "    birth_date=datetime.strptime(brth, \"%Y-%m-%d\").date()\n",
    "    today=datetime.today().date()\n",
    "\n",
    "     # Check if the birthdate is in the future\n",
    "    if birth_date>today:\n",
    "       print(\"Birthdate cannot be in the future\")\n",
    "    else:\n",
    "        year=today.year-birth_date.year\n",
    "        month=today.month-birth_date.month\n",
    "        day=today.day-birth_date.day\n",
    "\n",
    "        # Adjust for negative months/days\n",
    "        if day < 0:\n",
    "            month -= 1\n",
    "            previous_month = today.month - 1 if today.month > 1 else 12\n",
    "            previous_year = today.year if today.month > 1 else today.year - 1\n",
    "            day += (datetime(previous_year, previous_month + 1, 1) - datetime(previous_year, previous_month, 1)).days\n",
    "\n",
    "        if month < 0:\n",
    "            year -= 1\n",
    "            month += 12\n",
    "\n",
    "    print(f\"You are {year} years, {month} months, and {day} days old.\")\n",
    "except ValueError:\n",
    "    print(\"Invalid date format: (yy-mm-dd)\")"
   ]
  },
  {
   "cell_type": "code",
   "execution_count": null,
   "id": "a646a39b",
   "metadata": {},
   "outputs": [
    {
     "name": "stdout",
     "output_type": "stream",
     "text": [
      "🎉 Your next birthday is in 84 days.\n"
     ]
    }
   ],
   "source": [
    "# Task 2\n",
    "\n",
    "from datetime import datetime, timedelta\n",
    "\n",
    "# Ask for the user's birthdate\n",
    "birth_input = input(\"Enter your birthdate (YYYY-MM-DD): \")\n",
    "\n",
    "try:\n",
    "    birth_date = datetime.strptime(birth_input, \"%Y-%m-%d\").date()\n",
    "    today = datetime.today().date()\n",
    "\n",
    "    # Set birthday for the current year\n",
    "    next_birthday = birth_date.replace(year=today.year)\n",
    "\n",
    "    # If birthday this year already passed, set it for next year\n",
    "    if next_birthday < today:\n",
    "        next_birthday = next_birthday.replace(year=today.year + 1)\n",
    "\n",
    "    # Calculate the difference in days\n",
    "    days_left = (next_birthday - today).days\n",
    "\n",
    "    print(f\"🎉 Your next birthday is in {days_left} days.\")\n",
    "except ValueError:\n",
    "    print(\" Invalid date format. Please enter in YYYY-MM-DD format.\")\n",
    "    "
   ]
  },
  {
   "cell_type": "code",
   "execution_count": null,
   "id": "cd65ba1e",
   "metadata": {},
   "outputs": [],
   "source": [
    "# Task 3\n",
    "\n",
    "from datetime import datetime, timedelta\n",
    "\n",
    "# Step 1: Get current date and time\n",
    "current_str = input(\"Enter the current date and time (YYYY-MM-DD HH:MM:SS): \")\n",
    "\n",
    "try:\n",
    "    current_dt=datetime.strptime(current_str, \"%Y-%m-%d %H:%M:%S\")\n",
    "except ValueError:\n",
    "    print(\"Invalid date format! Use YYYY-MM-DD HH:MM:SS\")\n",
    "    exit()\n",
    "\n",
    "try:\n",
    "    hours=int(input(\"Enter meeting duration (hours):\"))\n",
    "    minutes=int(input(\"Enter meeting duration (minutes):\"))\n",
    "except ValueError:\n",
    "     print(\"❌ Please enter valid numbers for hours and minutes.\")\n",
    "     exit()\n",
    "\n",
    "\n",
    "# Add duration to current time\n",
    "\n",
    "duration=timedelta(hours=hours, minutes=minutes)\n",
    "end_time=current_dt+duration\n",
    "\n",
    "# Step 4: Print result\n",
    "print(f\" The meeting will end at: {end_time.strftime('%Y-%m-%d %H:%M:%S')}\")\n",
    "    \n",
    "\n"
   ]
  },
  {
   "cell_type": "code",
   "execution_count": null,
   "id": "02f987e3",
   "metadata": {},
   "outputs": [],
   "source": [
    "# Task 4\n",
    "\n",
    "import datetime\n",
    "import pytz\n",
    "\n",
    "def convert_timezone(date_str, from_tz_str, to_tz_sr):\n",
    "    try:\n",
    "         # Parse the date string into a datetime object\n",
    "         naive_dt=datetime.strptime(date_str, \"%Y-%m-%d %H:%M:%S\")\n",
    "    except ValueError:\n",
    "         print(\"Invalid date format! Use YYYY-MM-DD HH:MM:SS\")\n",
    "         return\n",
    "    try:\n",
    "         # Load timezones\n",
    "         from_tz=pytz.timezone(from_tz_str)\n",
    "         to_tz=pytz.timezone(to_tz_sr)\n",
    "    except pytz.UnknownTimeZoneError:\n",
    "         print(\" Invalid timezone name. Check the spelling (e.g., Asia/Seoul, America/New_York)\")\n",
    "         return\n",
    "    \n",
    "        # Localize the naive datetime to the source timezone\n",
    "    from_dt=from_tz.localize(naive_dt)\n",
    "\n",
    "    # Convert to the target timezone\n",
    "    to_dt=from_dt.astimezone(to_tz)\n",
    "\n",
    "        # Print the result\n",
    "    print(f\" Date and time in {to_tz_sr}: {to_dt.strftime('%Y-%m-%d %H:%M:%S')}\")\n",
    "\n",
    "\n",
    "# --- Main Program ---\n",
    "\n",
    "# Ask for input\n",
    "\n",
    "date_input=input(\"Enter date and time (YYYY-MM-DD HH:MM:SS):\")\n",
    "from_timezone = input(\"Enter your current timezone (e.g., Asia/Seoul): \")\n",
    "to_timezone = input(\"Enter the target timezone (e.g., America/New_York): \")\n",
    "\n",
    "# Call the function\n",
    "convert_timezone(date_input, from_timezone, to_timezone)\n"
   ]
  },
  {
   "cell_type": "code",
   "execution_count": null,
   "id": "28fa2eaf",
   "metadata": {},
   "outputs": [],
   "source": [
    "# Task 5\n",
    "\n",
    "import time\n",
    "from datetime import datetime\n",
    "\n",
    "def countdown(target_time_str):\n",
    "    try:\n",
    "        # Convert user input string to datetime object\n",
    "        target_time=datetime.strptime(target_time_str, \"%Y-%m-%d %H:%M:%S\")\n",
    "    except ValueError:\n",
    "        print(\"Invalid format! Please use YYYY-MM-DD HH:MM:SS\")\n",
    "\n",
    "    while True:\n",
    "        now=datetime.now()\n",
    "        time_left=target_time-now\n",
    "\n",
    "        if time_left.total_seconds()<=0:\n",
    "            print(\"Countdown complete!\")\n",
    "            break\n",
    "        # Extract days, hours, minutes, and seconds\n",
    "        days=time_left.days\n",
    "        hours, remainder=divmod(time_left.seconds, 3600)\n",
    "        minutes, seconds=divmod(remainder, 60)\n",
    "\n",
    "        print(f\"Time remaining: {days}d {hours}h {minutes}m {seconds}s\", end='\\r')\n",
    "\n",
    "        time.sleep(1)\n",
    "\n",
    "# Ask the user to input a future date and time\n",
    "user_input=input(\"Enter future date and time (YYYY-MM-DD HH-MM-SS):\")\n",
    "countdown(user_input)"
   ]
  },
  {
   "cell_type": "code",
   "execution_count": 9,
   "id": "2b69f426",
   "metadata": {},
   "outputs": [
    {
     "name": "stdout",
     "output_type": "stream",
     "text": [
      "Invalid email address\n"
     ]
    }
   ],
   "source": [
    "# Task 6\n",
    "\n",
    "import re \n",
    "\n",
    "def valid_email(email):\n",
    "    # Regular expression for validating an email\n",
    "    pattern=r'^[\\w\\.-]+@[\\w\\.-]+\\.\\w+$'\n",
    "    return re.match(pattern, email) is not None\n",
    "\n",
    "\n",
    "email=input(\"Enter your email address:\")\n",
    "\n",
    "if valid_email(email):\n",
    "    print(\"Valid email address\")\n",
    "else:\n",
    "    print(\"Invalid email address\")"
   ]
  },
  {
   "cell_type": "code",
   "execution_count": null,
   "id": "c08a3bbb",
   "metadata": {},
   "outputs": [
    {
     "name": "stdout",
     "output_type": "stream",
     "text": [
      "Invalid phone number\n"
     ]
    }
   ],
   "source": [
    "# Task 7\n",
    "\n",
    "phone=input(\"Enter your phone number:\")\n",
    "\n",
    "if phone.isdigit() and len(phone)==10:\n",
    "    area_code=phone[0:3]\n",
    "    central_code=phone[3:6] \n",
    "    line_code=phone[6:10]\n",
    "\n",
    "    print(f\"({area_code}) {central_code}-{line_code}\")   \n",
    "else:\n",
    "    print(\"Invalid phone number\")\n",
    "\n"
   ]
  },
  {
   "cell_type": "code",
   "execution_count": 35,
   "id": "a8d04bc5",
   "metadata": {},
   "outputs": [
    {
     "name": "stdout",
     "output_type": "stream",
     "text": [
      "Strong password\n"
     ]
    }
   ],
   "source": [
    "# Task 8\n",
    "\n",
    "import re\n",
    "\n",
    "password=input(\"Enter the password:\")\n",
    "\n",
    "has_upper = False\n",
    "has_lower = False\n",
    "has_digit = False\n",
    "has_special = False\n",
    "\n",
    "for char in password:\n",
    "    if char.isupper():\n",
    "        has_upper=True\n",
    "    elif char.islower():\n",
    "        has_lower=True\n",
    "    elif char.isdigit():\n",
    "        has_digit=True\n",
    "    elif char in \"!@#$%^&*\":\n",
    "        has_special=True\n",
    "\n",
    "if len(password)>=8 and  has_upper and has_lower and has_digit and has_special:\n",
    "    print(\"Strong password\")\n",
    "else:\n",
    "    print(\"Weak password\")"
   ]
  },
  {
   "cell_type": "code",
   "execution_count": null,
   "id": "7717c9f4",
   "metadata": {},
   "outputs": [
    {
     "name": "stdout",
     "output_type": "stream",
     "text": [
      "The word much found 1 times\n"
     ]
    }
   ],
   "source": [
    "# Task 9\n",
    "\n",
    "text=\"Love is everything! Love is everything! Love is everything! Love is everything! some several much more\"\n",
    "\n",
    "# Convert the text to lowercase for case-insensitive search\n",
    "text=text.lower()\n",
    "\n",
    "# Ask the user to input a word to search\n",
    "Search_word=input(\"Enter the word:\").lower()\n",
    "\n",
    "# Split the text into individual words\n",
    "words=text.split()\n",
    "\n",
    "# Count the number of times the word appears\n",
    "count=words.count(Search_word)\n",
    "\n",
    "if count>0:\n",
    "    print(f\"The word {Search_word} found {count} times\")\n",
    "else:\n",
    "    print(f\"The {Search_word} not found\")"
   ]
  },
  {
   "cell_type": "code",
   "execution_count": 7,
   "id": "14006c05",
   "metadata": {},
   "outputs": [
    {
     "name": "stdout",
     "output_type": "stream",
     "text": [
      "['04/06/2025', '12-09-1998', '2024-11-01']\n"
     ]
    }
   ],
   "source": [
    "# Task 10\n",
    "\n",
    "import re\n",
    "\n",
    "text=input(\"Enter the text:\")\n",
    "pattern=r\"\\d{2}-\\d{2}-\\d{4}|\\d{4}-\\d{2}-\\d{2}|\\d{2}/\\d{2}/\\d{4}|\\d{4}/\\d{2}/\\d{2}}\" \n",
    "\n",
    "date=re.findall(pattern, text)\n",
    "\n",
    "print(date)\n",
    "\n",
    "\n"
   ]
  },
  {
   "cell_type": "code",
   "execution_count": null,
   "id": "1ff0fba1",
   "metadata": {},
   "outputs": [],
   "source": []
  }
 ],
 "metadata": {
  "kernelspec": {
   "display_name": "myenv",
   "language": "python",
   "name": "python3"
  },
  "language_info": {
   "codemirror_mode": {
    "name": "ipython",
    "version": 3
   },
   "file_extension": ".py",
   "mimetype": "text/x-python",
   "name": "python",
   "nbconvert_exporter": "python",
   "pygments_lexer": "ipython3",
   "version": "3.13.3"
  }
 },
 "nbformat": 4,
 "nbformat_minor": 5
}
