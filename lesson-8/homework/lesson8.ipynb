{
 "cells": [
  {
   "cell_type": "code",
   "execution_count": 12,
   "id": "a581f88a",
   "metadata": {},
   "outputs": [
    {
     "name": "stdout",
     "output_type": "stream",
     "text": [
      "b cant be 0\n"
     ]
    }
   ],
   "source": [
    "# Task 1 Exception Handling Exercises \n",
    "\n",
    "a=int(input('Enter a:'))\n",
    "b=int(input('Enter b:'))\n",
    "try:\n",
    "    print(a/b)\n",
    "except ZeroDivisionError:\n",
    "    print ('b cant be 0')"
   ]
  },
  {
   "cell_type": "code",
   "execution_count": 25,
   "id": "8759891f",
   "metadata": {},
   "outputs": [
    {
     "name": "stdout",
     "output_type": "stream",
     "text": [
      "10\n"
     ]
    }
   ],
   "source": [
    "# Task 2 Exception Handling Exercises \n",
    "\n",
    "a=int(input('Enter number:'))\n",
    "b=int(input('Enter number:'))\n",
    "try:\n",
    "    print(a+b)\n",
    "except ValueError:\n",
    "    print('must be integer')"
   ]
  },
  {
   "cell_type": "code",
   "execution_count": 20,
   "id": "2fa9ce87",
   "metadata": {},
   "outputs": [
    {
     "name": "stdout",
     "output_type": "stream",
     "text": [
      "Error: The file example.txt was not found\n"
     ]
    }
   ],
   "source": [
    "# Task 3 Exception Handling Exercises \n",
    "\n",
    "filename = 'example.txt'\n",
    "try:\n",
    "    with open(filename, 'r') as file:\n",
    "         content = file.read()\n",
    "         print('File content:\\n', content)\n",
    "except FileNotFoundError:\n",
    "     print( f'Error: The file {filename} was not found')"
   ]
  },
  {
   "cell_type": "code",
   "execution_count": null,
   "id": "35b00d58",
   "metadata": {},
   "outputs": [],
   "source": [
    "# Task 4 Exception Handling Exercises \n",
    "\n",
    "c=int(input('Enter number:'))\n",
    "d=input('Enter number:')\n",
    "try:\n",
    "    print(c+d)\n",
    "except TypeError:\n",
    "    print('c must be integer')"
   ]
  },
  {
   "cell_type": "code",
   "execution_count": null,
   "id": "779ac851",
   "metadata": {},
   "outputs": [],
   "source": [
    "# Task 5 Exception Handling Exercises \n",
    "\n",
    "file_path = input(\"Enter the path of the file to open:\")\n",
    "\n",
    "try:\n",
    "    with open(file_path, 'r') as file:\n",
    "        content = file.read()\n",
    "        print(\"File content:\")\n",
    "        print(content)\n",
    "except PermissionError:\n",
    "    print(\"Error: You do not have the necessary permissions to open this file.\")\n",
    "except FileNotFoundError:\n",
    "    print(\"Error: The file was not found.\")"
   ]
  },
  {
   "cell_type": "code",
   "execution_count": 27,
   "id": "56ebfaad",
   "metadata": {},
   "outputs": [
    {
     "name": "stdout",
     "output_type": "stream",
     "text": [
      "List: [10, 20, 30, 40, 50]\n",
      "Element at index 2: 30\n"
     ]
    }
   ],
   "source": [
    "# Task 6 Exception Handling Exercises \n",
    "\n",
    "my_list = [10, 20, 30, 40, 50]\n",
    "print(\"List:\", my_list)\n",
    "\n",
    "try:\n",
    "    index = int(input(\"Enter an index:\"))\n",
    "    print(f\"Element at index {index}: {my_list[index]}\")\n",
    "except IndexError:\n",
    "    print(\"Error: The index you entered is out of range!\")"
   ]
  },
  {
   "cell_type": "code",
   "execution_count": 30,
   "id": "674c3907",
   "metadata": {},
   "outputs": [
    {
     "name": "stdout",
     "output_type": "stream",
     "text": [
      "You entered: 545.0\n"
     ]
    }
   ],
   "source": [
    "# Task 7 Exception Handling Exercises \n",
    "\n",
    "try:\n",
    "    number = input(\"Please enter a number:\")\n",
    "    number = float(number)\n",
    "    print(f\"You entered: {number}\")\n",
    "\n",
    "except KeyboardInterrupt:\n",
    "    print(\"\\nInput cancelled by user (KeyboardInterrupt).\")\n"
   ]
  },
  {
   "cell_type": "code",
   "execution_count": null,
   "id": "26b99abe",
   "metadata": {},
   "outputs": [],
   "source": [
    "# Task 8 Exception Handling Exercises \n",
    "\n",
    "try:\n",
    "    numerator = float(input(\"Enter the numerator: \"))\n",
    "    denominator = float(input(\"Enter the denominator: \"))\n",
    "    result = numerator / denominator\n",
    "    print(f\"Result: {result}\")\n",
    "except ArithmeticError as e:\n",
    "    print(f\"Arithmetic error occurred: {e}\")\n",
    "\n"
   ]
  },
  {
   "cell_type": "code",
   "execution_count": null,
   "id": "560cf26f",
   "metadata": {},
   "outputs": [],
   "source": [
    "# Task 9 Exception Handling Exercises \n",
    "\n",
    "file_path = input(\"Enter the path of the file to open: \")\n",
    "\n",
    "try:\n",
    "    with open(file_path, 'r', encoding='utf-8') as file:\n",
    "        content = file.read()\n",
    "        print(\"File content:\")\n",
    "        print(content)\n",
    "except UnicodeDecodeError:\n",
    "    print(\"Error: Unable to decode the file using UTF-8 encoding.\")"
   ]
  },
  {
   "cell_type": "code",
   "execution_count": 31,
   "id": "07737fd8",
   "metadata": {},
   "outputs": [
    {
     "name": "stdout",
     "output_type": "stream",
     "text": [
      "List: [1, 2, 3, 4, 5]\n",
      "Error: 'list' object has no attribute 'appendleft'. Did you mean 'append'?\n"
     ]
    }
   ],
   "source": [
    "# Task 10 Exception Handling Exercises \n",
    "\n",
    "my_list = [1, 2, 3, 4, 5]\n",
    "print(\"List:\", my_list)\n",
    "\n",
    "try:\n",
    "    # Intentional error: lists do not have an 'appendleft' method (it's from deque)\n",
    "    my_list.appendleft(0)\n",
    "except AttributeError:\n",
    "    print(\"Error: 'list' object has no attribute 'appendleft'. Did you mean 'append'?\")"
   ]
  },
  {
   "cell_type": "code",
   "execution_count": 62,
   "id": "300b9795",
   "metadata": {},
   "outputs": [
    {
     "name": "stdout",
     "output_type": "stream",
     "text": [
      "\n",
      "Love is everything!\n"
     ]
    }
   ],
   "source": [
    "# Task 1 File Input/Output Exercises\n",
    "\n",
    "with open('example.txt', 'r') as file:\n",
    "     print(file.read())\n"
   ]
  },
  {
   "cell_type": "code",
   "execution_count": 100,
   "id": "075b2ff8",
   "metadata": {},
   "outputs": [
    {
     "name": "stdout",
     "output_type": "stream",
     "text": [
      "Love \n"
     ]
    }
   ],
   "source": [
    "# Task 2 File Input/Output Exercises\n",
    "\n",
    "n = int(input(\"Enter the number of lines to read: \"))\n",
    "\n",
    "with open ('example.txt', 'r') as file:\n",
    "    for i in file:\n",
    "        data = file.readline(n)\n",
    "        if not data:\n",
    "            break\n",
    "        print(data)\n",
    "        \n",
    "        "
   ]
  },
  {
   "cell_type": "code",
   "execution_count": 85,
   "id": "24eb6305",
   "metadata": {},
   "outputs": [
    {
     "name": "stdout",
     "output_type": "stream",
     "text": [
      "Love is everything!Love is everything!Love is everything!\n",
      "Love is everything!\n"
     ]
    }
   ],
   "source": [
    "# Task 3 File Input/Output Exercises\n",
    "\n",
    "with open('example.txt', 'a') as file:\n",
    "    d=file.write('\\nLove is everything!')\n",
    "   \n",
    "with open ('example.txt', 'r') as file:\n",
    "     print(file.read())\n",
    "   \n",
    "   "
   ]
  },
  {
   "cell_type": "code",
   "execution_count": 92,
   "id": "1b4a492e",
   "metadata": {},
   "outputs": [
    {
     "name": "stdout",
     "output_type": "stream",
     "text": [
      "ing!\n",
      "\n"
     ]
    }
   ],
   "source": [
    "# Task 4 File Input/Output Exercises\n",
    "\n",
    "n = int(input(\"Enter the number of lines to read: \"))\n",
    "\n",
    "with open ('example.txt', 'r') as file:\n",
    "    line=file.readline()\n",
    "    last_line = line[-n:]\n",
    "    print(last_line)\n"
   ]
  },
  {
   "cell_type": "code",
   "execution_count": 101,
   "id": "b577f931",
   "metadata": {},
   "outputs": [
    {
     "name": "stdout",
     "output_type": "stream",
     "text": [
      "['Love is everything!Love is everything!Love is everything!', 'Love is everything!']\n"
     ]
    }
   ],
   "source": [
    "# Task 5 File Input/Output Exercises\n",
    "\n",
    "with open ('example.txt', 'r') as file:\n",
    "    lines = [line.strip() for line in file] \n",
    "print(lines)\n"
   ]
  },
  {
   "cell_type": "code",
   "execution_count": 102,
   "id": "4442bfad",
   "metadata": {},
   "outputs": [
    {
     "name": "stdout",
     "output_type": "stream",
     "text": [
      "['Love is everything!Love is everything!Love is everything!', 'Love is everything!']\n"
     ]
    }
   ],
   "source": [
    "# Task 6 File Input/Output Exercises\n",
    "\n",
    "with open ('example.txt', 'r') as file:\n",
    "     lines_variable = [line.strip() for line in file] \n",
    "     print(lines_variable)"
   ]
  },
  {
   "cell_type": "code",
   "execution_count": 103,
   "id": "e842b2d6",
   "metadata": {},
   "outputs": [
    {
     "name": "stdout",
     "output_type": "stream",
     "text": [
      "['Love is everything!Love is everything!Love is everything!', 'Love is everything!']\n"
     ]
    }
   ],
   "source": [
    "# Task 7 File Input/Output Exercises\n",
    "\n",
    "with open ('example.txt', 'r') as file: \n",
    "   array = [line.strip() for line in file]\n",
    "   print(array)"
   ]
  },
  {
   "cell_type": "code",
   "execution_count": 105,
   "id": "ecc7bc72",
   "metadata": {},
   "outputs": [
    {
     "name": "stdout",
     "output_type": "stream",
     "text": [
      "\n",
      "--- Longest Word(s) ---\n",
      "everything!Love\n",
      "everything!Love\n",
      "\n",
      "Length: 15\n"
     ]
    }
   ],
   "source": [
    "# Task 8 File Input/Output Exercises\n",
    "\n",
    "with open ('example.txt', 'r') as file:\n",
    "    text=file.read()\n",
    "    words=text.split()\n",
    "    max_lenght=max(len(word) for word in words )\n",
    "    longest_words=[word for word in words if len(word)==max_lenght]\n",
    "    print(\"\\n--- Longest Word(s) ---\")\n",
    "for word in longest_words:\n",
    "    print(word)\n",
    "print(f\"\\nLength: {max_lenght}\")"
   ]
  },
  {
   "cell_type": "code",
   "execution_count": 109,
   "id": "58f405d1",
   "metadata": {},
   "outputs": [
    {
     "name": "stdout",
     "output_type": "stream",
     "text": [
      "2\n"
     ]
    }
   ],
   "source": [
    "# Task 9 File Input/Output Exercises\n",
    "\n",
    "with open ('example.txt', 'r') as file:\n",
    "    line_count=sum(1 for line in file)\n",
    "print (line_count)\n"
   ]
  },
  {
   "cell_type": "code",
   "execution_count": null,
   "id": "40343c4a",
   "metadata": {},
   "outputs": [
    {
     "name": "stdout",
     "output_type": "stream",
     "text": [
      "love: 2\n",
      "is: 4\n",
      "everything!love: 2\n",
      "everything!: 2\n"
     ]
    }
   ],
   "source": [
    "# Task 10 File Input/Output Exercises\n",
    "\n",
    "from collections import Counter\n",
    "\n",
    "with open ('example.txt', 'r') as file:\n",
    "       text = file.read().lower()  # Read all text and convert to lowercase\n",
    "\n",
    "# Split the text into words and count their frequency\n",
    "words = text.split()\n",
    "word_count = Counter(words)\n",
    "\n",
    "for word, count in word_count.items():\n",
    "    print(f\"{word}: {count}\")"
   ]
  },
  {
   "cell_type": "code",
   "execution_count": 111,
   "id": "1ebb93a4",
   "metadata": {},
   "outputs": [
    {
     "name": "stdout",
     "output_type": "stream",
     "text": [
      "\n",
      "File size: 78 bytes\n"
     ]
    }
   ],
   "source": [
    "# Task 11 File Input/Output Exercises\n",
    "\n",
    "import os\n",
    "if os.path.isfile(f'example.txt'):\n",
    "    file_size = os.path.getsize('example.txt')\n",
    "    print(f\"\\nFile size: {file_size} bytes\")\n",
    "else:\n",
    "    print(\"File does not exist.\")"
   ]
  },
  {
   "cell_type": "code",
   "execution_count": 113,
   "id": "135e81a7",
   "metadata": {},
   "outputs": [
    {
     "name": "stdout",
     "output_type": "stream",
     "text": [
      "\n",
      "List written to file successfully.\n"
     ]
    }
   ],
   "source": [
    "# Task 12 File Input/Output Exercises\n",
    "\n",
    "my_list=[\"some, several, much, more\"]\n",
    "\n",
    "with open (\"example.txt\", 'a') as file:\n",
    "    for item in my_list:\n",
    "        file.write(item+ '\\n')\n",
    "print(\"\\nList written to file successfully.\")\n"
   ]
  },
  {
   "cell_type": "code",
   "execution_count": null,
   "id": "80d6409d",
   "metadata": {},
   "outputs": [],
   "source": [
    "# Task 13 File Input/Output Exercises\n",
    "\n",
    "# Get file paths from user\n",
    "source_path = input(\"Enter the source file path: \")\n",
    "destination_path = input(\"Enter the destination file path: \")\n",
    "\n",
    "# Copy content\n",
    "with open(source_path, 'r', encoding='utf-8') as source_file:\n",
    "    content = source_file.read()\n",
    "\n",
    "with open(destination_path, 'w', encoding='utf-8') as destination_file:\n",
    "    destination_file.write(content)\n",
    "\n",
    "print(\"\\nFile copied successfully.\")"
   ]
  },
  {
   "cell_type": "code",
   "execution_count": null,
   "id": "178536ad",
   "metadata": {},
   "outputs": [],
   "source": [
    "# Task 14 File Input/Output Exercises\n",
    "\n",
    "# Get file paths\n",
    "file1_path = input(\"Enter the path of the first file: \")\n",
    "file2_path = input(\"Enter the path of the second file: \")\n",
    "# Combine corresponding lines\n",
    "with open(file1_path, 'r', encoding='utf-8') as file1, open(file2_path, 'r', encoding='utf-8') as file2:\n",
    "    for line1, line2 in zip(file1, file2):\n",
    "        combined_line = line1.strip() + \" \" + line2.strip()\n",
    "        print(combined_line)  # Or write to a new file if desired"
   ]
  },
  {
   "cell_type": "code",
   "execution_count": null,
   "id": "f68993f9",
   "metadata": {},
   "outputs": [
    {
     "name": "stdout",
     "output_type": "stream",
     "text": [
      "L\n"
     ]
    }
   ],
   "source": [
    "# Task 15 File Input/Output Exercises\n",
    "\n",
    "import random\n",
    "\n",
    "with open ('example.txt', 'r') as file:\n",
    "    lines=file.readline()\n",
    "\n",
    "if lines:\n",
    "    random_line=random.choice(lines)\n",
    "    print(random_line.strip())\n",
    "else:\n",
    "    print(\"file is empty\")"
   ]
  },
  {
   "cell_type": "code",
   "execution_count": null,
   "id": "7656064c",
   "metadata": {},
   "outputs": [
    {
     "name": "stdout",
     "output_type": "stream",
     "text": [
      "Is the file closed? False\n",
      "Is the file closed now? True\n"
     ]
    }
   ],
   "source": [
    "# Task 16 File Input/Output Exercises\n",
    "\n",
    "# Open the file\n",
    "file = open(\"example.txt\", 'r')\n",
    "\n",
    "# Check if file is closed (before closing)\n",
    "print(f\"Is the file closed? {file.closed}\")\n",
    "\n",
    "# Close the file\n",
    "file.close()\n",
    "\n",
    "# Check again after closing\n",
    "print(f\"Is the file closed now? {file.closed}\")"
   ]
  },
  {
   "cell_type": "code",
   "execution_count": null,
   "id": "ffb06cfc",
   "metadata": {},
   "outputs": [],
   "source": [
    "# Task 17 File Input/Output Exercises\n",
    "\n",
    "# Get file paths from the user\n",
    "input_path = input(\"Enter the path of the input file: \")\n",
    "output_path = input(\"Enter the path for the output file: \")\n",
    "\n",
    "# Read from input, remove newlines, and write to output\n",
    "with open(input_path, 'r', encoding='utf-8') as infile, open(output_path, 'w', encoding='utf-8') as outfile:\n",
    "    for line in infile:\n",
    "        cleaned_line = line.strip()  # Removes \\n and surrounding whitespace\n",
    "        outfile.write(cleaned_line)\n",
    "\n",
    "print(\"\\nNewline characters removed and saved to the output file.\")"
   ]
  },
  {
   "cell_type": "code",
   "execution_count": null,
   "id": "83630722",
   "metadata": {},
   "outputs": [],
   "source": [
    "# Task 18 File Input/Output Exercises\n",
    "\n",
    "# Read file and count words\n",
    "with open(\"example.txt\", 'r') as file:\n",
    "    text = file.read()\n",
    "\n",
    "# Use regex to split on any non-word character (like space, comma, period, etc.)\n",
    "words = re.findall(r'\\b\\w+\\b', text)\n",
    "\n",
    "# Output the word count\n",
    "print(f\"\\nNumber of words: {len(words)}\")"
   ]
  },
  {
   "cell_type": "code",
   "execution_count": null,
   "id": "5945b7d1",
   "metadata": {},
   "outputs": [],
   "source": [
    "# Task 19 File Input/Output Exercises\n",
    "\n",
    "import os\n",
    "\n",
    "# Ask the user for multiple file paths (comma-separated)\n",
    "file_paths = input(\"Enter text file paths (separated by commas): \").split(',')\n",
    "\n",
    "# List to store characters\n",
    "char_list = []\n",
    "\n",
    "# Process each file\n",
    "for path in file_paths:\n",
    "    path = path.strip()  # Clean up whitespace\n",
    "    if os.path.isfile(path):\n",
    "        with open(path, 'r', encoding='utf-8') as file:\n",
    "            for line in file:\n",
    "                # Add each character from the line to the list (excluding newline characters)\n",
    "                char_list.extend([char for char in line if char != '\\n'])\n",
    "    else:\n",
    "        print(f\"File not found: {path}\")\n",
    "\n",
    "# Display result\n",
    "print(\"\\nExtracted characters:\")\n",
    "print(char_list)"
   ]
  },
  {
   "cell_type": "code",
   "execution_count": 133,
   "id": "399be9e6",
   "metadata": {},
   "outputs": [
    {
     "name": "stdout",
     "output_type": "stream",
     "text": [
      "1\n",
      "1\n",
      "1\n",
      "1\n",
      "1\n",
      "1\n",
      "1\n",
      "1\n",
      "1\n",
      "1\n",
      "1\n",
      "1\n",
      "1\n",
      "1\n",
      "1\n",
      "1\n",
      "1\n",
      "1\n",
      "1\n",
      "1\n",
      "1\n",
      "1\n",
      "1\n",
      "1\n",
      "1\n",
      "1\n"
     ]
    }
   ],
   "source": [
    "# Task 20 File Input/Output Exercises\n",
    "\n",
    "import string\n",
    "\n",
    "alphabet = ['a', 'b', 'c', 'd', 'e', 'f', 'g', 'h', 'i', 'j',\n",
    "            'k', 'l', 'm', 'n', 'o', 'p', 'q', 'r', 's', 't',\n",
    "            'u', 'v', 'w', 'x', 'y', 'z']\n",
    "\n",
    "for i in alphabet:\n",
    "    with open (f\"{i.upper()}.txt\",'w', encoding='utf-8') as f:\n",
    "        print(f.write(i))"
   ]
  },
  {
   "cell_type": "code",
   "execution_count": null,
   "id": "5a1b6cb9",
   "metadata": {},
   "outputs": [],
   "source": [
    "# Task 21 File Input/Output Exercises\n",
    "\n",
    "# Folder and file path\n",
    "folder_path = r\"C:\\Users\\HP\\Desktop\\Python\\HW\"\n",
    "os.makedirs(folder_path, exist_ok=True)\n",
    "file_path = os.path.join(folder_path, \"alphabet.txt\")\n",
    "\n",
    "# Ask user how many letters per line\n",
    "letters_per_line = int(input(\"Enter the number of letters per line: \"))\n",
    "\n",
    "# Get all uppercase letters as a list\n",
    "letters = list(string.ascii_uppercase)\n",
    "\n",
    "with open(file_path, 'w', encoding='utf-8') as file:\n",
    "    # Write letters in chunks of 'letters_per_line'\n",
    "    for i in range(0, len(letters), letters_per_line):\n",
    "        line_letters = letters[i:i + letters_per_line]\n",
    "        line = \" \".join(line_letters)\n",
    "        file.write(line + \"\\n\")\n",
    "\n",
    "print(f\"\\nFile created at:\\n{file_path}\")\n"
   ]
  }
 ],
 "metadata": {
  "kernelspec": {
   "display_name": "Python 3",
   "language": "python",
   "name": "python3"
  },
  "language_info": {
   "codemirror_mode": {
    "name": "ipython",
    "version": 3
   },
   "file_extension": ".py",
   "mimetype": "text/x-python",
   "name": "python",
   "nbconvert_exporter": "python",
   "pygments_lexer": "ipython3",
   "version": "3.13.3"
  }
 },
 "nbformat": 4,
 "nbformat_minor": 5
}
