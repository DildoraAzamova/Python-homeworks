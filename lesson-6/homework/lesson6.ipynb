{
 "cells": [
  {
   "cell_type": "code",
   "execution_count": null,
   "id": "2a67b102",
   "metadata": {},
   "outputs": [
    {
     "name": "stdout",
     "output_type": "stream",
     "text": [
      "ffse_frg_rgf_sfe_wae_fa\n"
     ]
    }
   ],
   "source": [
    "# Task 1  Modify String with Underscores\n",
    "\n",
    "txt = input(\"Enter a string: \")\n",
    "\n",
    "vowels = 'aeiouAEIOU'\n",
    "result = []\n",
    "count = 0\n",
    "i = 0\n",
    "\n",
    "while i < len(txt):\n",
    "    char = txt[i]\n",
    "    result.append(char)\n",
    "\n",
    "    if char != '_':\n",
    "        count += 1\n",
    "\n",
    "    if count == 3:\n",
    "        # Look ahead for next valid spot to place underscore\n",
    "        j = i + 1\n",
    "        while j < len(txt) and (txt[j] in vowels or (j + 1 < len(txt) and txt[j + 1] == '_')):\n",
    "            result.append(txt[j])\n",
    "            i += 1\n",
    "            j += 1\n",
    "\n",
    "        if j < len(txt):\n",
    "            result.append('_')\n",
    "        count = 0\n",
    "\n",
    "    i += 1\n",
    "\n",
    "print(\"\".join(result))"
   ]
  },
  {
   "cell_type": "code",
   "execution_count": null,
   "id": "bd372aca",
   "metadata": {},
   "outputs": [
    {
     "name": "stdout",
     "output_type": "stream",
     "text": [
      "0\n",
      "1\n",
      "4\n",
      "9\n",
      "16\n",
      "25\n"
     ]
    }
   ],
   "source": [
    "# Task 2 Integer Squares Exercise\n",
    "\n",
    "n=int(input())\n",
    "\n",
    "for i in range(n):\n",
    "    print(i**2)"
   ]
  },
  {
   "cell_type": "code",
   "execution_count": null,
   "id": "a02738e5",
   "metadata": {},
   "outputs": [
    {
     "name": "stdout",
     "output_type": "stream",
     "text": [
      "1\n",
      "2\n",
      "3\n",
      "4\n",
      "5\n",
      "6\n",
      "7\n",
      "8\n",
      "9\n",
      "10\n"
     ]
    }
   ],
   "source": [
    "# Task 3 Loop-Based Exercises\n",
    "# Exercise 1\n",
    "\n",
    "count=1\n",
    "while count<=10:\n",
    "    print(count)\n",
    "    count+=1\n",
    "    "
   ]
  },
  {
   "cell_type": "code",
   "execution_count": 16,
   "id": "2ea99672",
   "metadata": {},
   "outputs": [
    {
     "name": "stdout",
     "output_type": "stream",
     "text": [
      "1 \n",
      "1 2 \n",
      "1 2 3 \n",
      "1 2 3 4 \n",
      "1 2 3 4 5 \n"
     ]
    }
   ],
   "source": [
    "# Task 3 Loop-Based Exercises\n",
    "# Exercise 2\n",
    "\n",
    "for i in range(1,6):\n",
    "    for j in range(1, i+1):\n",
    "        print(j, end=' ')\n",
    "    print()"
   ]
  },
  {
   "cell_type": "code",
   "execution_count": 25,
   "id": "fa13de6e",
   "metadata": {},
   "outputs": [
    {
     "name": "stdout",
     "output_type": "stream",
     "text": [
      "15\n"
     ]
    }
   ],
   "source": [
    "# Task 3 Loop-Based Exercises\n",
    "# Exercise 3\n",
    "\n",
    "n=int(input())\n",
    "total=0\n",
    "\n",
    "for i in range(1,n+1):\n",
    "    total+=i\n",
    "print(total)\n"
   ]
  },
  {
   "cell_type": "code",
   "execution_count": 29,
   "id": "b3c3c004",
   "metadata": {},
   "outputs": [
    {
     "name": "stdout",
     "output_type": "stream",
     "text": [
      "2\n",
      "4\n",
      "6\n",
      "8\n",
      "10\n",
      "12\n",
      "14\n",
      "16\n",
      "18\n",
      "20\n"
     ]
    }
   ],
   "source": [
    "# Task 3 Loop-Based Exercises\n",
    "# Exercise 4\n",
    "\n",
    "n=int(input())\n",
    "\n",
    "for i in range(1,11):\n",
    "    \n",
    "    print(n*i)\n"
   ]
  },
  {
   "cell_type": "code",
   "execution_count": 33,
   "id": "506d58c8",
   "metadata": {},
   "outputs": [
    {
     "name": "stdout",
     "output_type": "stream",
     "text": [
      "75\n",
      "150\n",
      "145\n"
     ]
    }
   ],
   "source": [
    "# Task 3 Loop-Based Exercises\n",
    "# Exercise 5\n",
    "\n",
    "numbers = [12, 75, 150, 180, 145, 525, 50]\n",
    "\n",
    "for num in numbers:\n",
    "    if num>500:\n",
    "        break\n",
    "    if num>70 and num<=150:\n",
    "        print(num)"
   ]
  },
  {
   "cell_type": "code",
   "execution_count": 37,
   "id": "21b5f622",
   "metadata": {},
   "outputs": [
    {
     "name": "stdout",
     "output_type": "stream",
     "text": [
      "5\n"
     ]
    }
   ],
   "source": [
    "# Task 3 Loop-Based Exercises\n",
    "# Exercise 6\n",
    "\n",
    "num=int(input())\n",
    "count=0\n",
    "\n",
    "while num!=0:\n",
    "    num//=10\n",
    "    count+=1\n",
    "print(count)"
   ]
  },
  {
   "cell_type": "code",
   "execution_count": 44,
   "id": "286a77ce",
   "metadata": {},
   "outputs": [
    {
     "name": "stdout",
     "output_type": "stream",
     "text": [
      "5 4 3 2 1 \n",
      "4 3 2 1 \n",
      "3 2 1 \n",
      "2 1 \n",
      "1 \n"
     ]
    }
   ],
   "source": [
    "# Task 3 Loop-Based Exercises\n",
    "# Exercise 7\n",
    "\n",
    "for i in range(5, 0, -1):\n",
    "    for j in range(i,0,-1):\n",
    "        print(j, end=' ')\n",
    "    print()\n"
   ]
  },
  {
   "cell_type": "code",
   "execution_count": 46,
   "id": "e4fdea83",
   "metadata": {},
   "outputs": [
    {
     "name": "stdout",
     "output_type": "stream",
     "text": [
      "50\n",
      "40\n",
      "30\n",
      "20\n",
      "10\n"
     ]
    }
   ],
   "source": [
    "# Task 3 Loop-Based Exercises\n",
    "# Exercise 8\n",
    "\n",
    "list1 = [10, 20, 30, 40, 50]\n",
    "\n",
    "for i in range(len(list1)-1, -1, -1):\n",
    "    print(list1[i])\n",
    "    "
   ]
  },
  {
   "cell_type": "code",
   "execution_count": 51,
   "id": "697b87f7",
   "metadata": {},
   "outputs": [
    {
     "name": "stdout",
     "output_type": "stream",
     "text": [
      "-10\n",
      "-9\n",
      "-8\n",
      "-7\n",
      "-6\n",
      "-5\n",
      "-4\n",
      "-3\n",
      "-2\n",
      "-1\n"
     ]
    }
   ],
   "source": [
    "# Task 3 Loop-Based Exercises\n",
    "# Exercise 9\n",
    "\n",
    "count=-10\n",
    "while count<=-1:\n",
    "    print(count)\n",
    "    count+=1"
   ]
  },
  {
   "cell_type": "code",
   "execution_count": 56,
   "id": "dfce0ce4",
   "metadata": {},
   "outputs": [
    {
     "name": "stdout",
     "output_type": "stream",
     "text": [
      "0\n",
      "1\n",
      "2\n",
      "3\n",
      "4\n",
      "Done!\n"
     ]
    }
   ],
   "source": [
    "# Task 3 Loop-Based Exercises\n",
    "# Exercise 10\n",
    "\n",
    "counts=0\n",
    "while counts<=4:\n",
    "    print(counts)\n",
    "    counts+=1\n",
    "print(\"Done!\")\n",
    "\n"
   ]
  },
  {
   "cell_type": "code",
   "execution_count": 57,
   "id": "e6d7b341",
   "metadata": {},
   "outputs": [
    {
     "name": "stdout",
     "output_type": "stream",
     "text": [
      "29\n",
      "31\n",
      "37\n",
      "41\n",
      "43\n",
      "47\n"
     ]
    }
   ],
   "source": [
    "# Task 3 Loop-Based Exercises\n",
    "# Exercise 11\n",
    "\n",
    "for num in range(25,51):\n",
    "    if num>1:\n",
    "        for i in range(2,int(num**0.5)+1):\n",
    "            if num%i==0:\n",
    "               break\n",
    "        else:\n",
    "            print(num)"
   ]
  },
  {
   "cell_type": "code",
   "execution_count": 63,
   "id": "2e546da6",
   "metadata": {},
   "outputs": [
    {
     "name": "stdout",
     "output_type": "stream",
     "text": [
      "0 1 1 2 3 5 8 13 21 34 "
     ]
    }
   ],
   "source": [
    "# Task 3 Loop-Based Exercises\n",
    "# Exercise 12\n",
    "\n",
    "n=10\n",
    "a,b=0,1\n",
    "\n",
    "for _ in range(n):\n",
    "    print(a,end=' ')\n",
    "    a,b = b,a+b"
   ]
  },
  {
   "cell_type": "code",
   "execution_count": null,
   "id": "ae477605",
   "metadata": {},
   "outputs": [
    {
     "name": "stdout",
     "output_type": "stream",
     "text": [
      "The factorial of 5 is 120\n"
     ]
    }
   ],
   "source": [
    "# Task 3 Loop-Based Exercises\n",
    "# Exercise 13\n",
    "\n",
    "num=int(input())\n",
    "factorial=1\n",
    "\n",
    "for i in range(1, num + 1):\n",
    "        factorial *= i\n",
    "print(f\"The factorial of\", num, \"is\", factorial)"
   ]
  },
  {
   "cell_type": "code",
   "execution_count": 64,
   "id": "97e95172",
   "metadata": {},
   "outputs": [
    {
     "name": "stdout",
     "output_type": "stream",
     "text": [
      "[1, 1, 3, 4]\n",
      "[1, 2, 3, 4, 5, 6]\n",
      "[1, 2, 2, 5]\n"
     ]
    }
   ],
   "source": [
    "# Task 4 Return Uncommon Elements of Lists\n",
    "\n",
    "from collections import Counter\n",
    "\n",
    "def uncommon_elements(list1, list2):\n",
    "    c1 = Counter(list1)\n",
    "    c2 = Counter(list2)\n",
    "\n",
    "    # Find common elements with their minimum counts\n",
    "    common = c1 & c2  \n",
    "\n",
    "    # Subtract common elements from both counters\n",
    "    diff1 = c1 - common\n",
    "    diff2 = c2 - common\n",
    "\n",
    "    # Combine the unique elements back into a list\n",
    "    return list(diff1.elements()) + list(diff2.elements())\n",
    "\n",
    "\n",
    "# Test examples\n",
    "print(uncommon_elements([1, 1, 2], [2, 3, 4]))          # [1, 1, 3, 4]\n",
    "print(uncommon_elements([1, 2, 3], [4, 5, 6]))          # [1, 2, 3, 4, 5, 6]\n",
    "print(uncommon_elements([1, 1, 2, 3, 4, 2], [1, 3, 4, 5]))  # [2, 2, 5]\n",
    "\n"
   ]
  }
 ],
 "metadata": {
  "kernelspec": {
   "display_name": "Python 3",
   "language": "python",
   "name": "python3"
  },
  "language_info": {
   "codemirror_mode": {
    "name": "ipython",
    "version": 3
   },
   "file_extension": ".py",
   "mimetype": "text/x-python",
   "name": "python",
   "nbconvert_exporter": "python",
   "pygments_lexer": "ipython3",
   "version": "3.13.3"
  }
 },
 "nbformat": 4,
 "nbformat_minor": 5
}
